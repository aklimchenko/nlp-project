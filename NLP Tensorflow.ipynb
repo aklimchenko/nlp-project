{
 "cells": [
  {
   "cell_type": "code",
   "execution_count": 1,
   "metadata": {},
   "outputs": [],
   "source": [
    "import numpy as np\n",
    "import pandas as pd\n",
    "import matplotlib.pyplot as plt\n",
    "from sklearn.model_selection import train_test_split\n",
    "\n",
    "import re\n",
    "import warnings\n",
    "warnings.filterwarnings(\"ignore\")"
   ]
  },
  {
   "cell_type": "code",
   "execution_count": 2,
   "metadata": {},
   "outputs": [],
   "source": [
    "from tensorflow.keras.preprocessing.text import Tokenizer\n",
    "from tensorflow.keras.preprocessing.sequence import pad_sequences\n",
    "from tensorflow.keras.layers import Dense, Input, GlobalMaxPooling1D, Conv1D, MaxPooling1D\n",
    "from tensorflow.keras.layers import LSTM, Embedding, GRU\n",
    "import tensorflow as tf"
   ]
  },
  {
   "cell_type": "code",
   "execution_count": 3,
   "metadata": {},
   "outputs": [],
   "source": [
    "df = pd.read_csv('./datasets/data_200.csv') "
   ]
  },
  {
   "cell_type": "code",
   "execution_count": 4,
   "metadata": {},
   "outputs": [
    {
     "data": {
      "text/html": [
       "<div>\n",
       "<style scoped>\n",
       "    .dataframe tbody tr th:only-of-type {\n",
       "        vertical-align: middle;\n",
       "    }\n",
       "\n",
       "    .dataframe tbody tr th {\n",
       "        vertical-align: top;\n",
       "    }\n",
       "\n",
       "    .dataframe thead th {\n",
       "        text-align: right;\n",
       "    }\n",
       "</style>\n",
       "<table border=\"1\" class=\"dataframe\">\n",
       "  <thead>\n",
       "    <tr style=\"text-align: right;\">\n",
       "      <th></th>\n",
       "      <th>text_parsed</th>\n",
       "      <th>money_laundering</th>\n",
       "      <th>text_parsed_length</th>\n",
       "    </tr>\n",
       "  </thead>\n",
       "  <tbody>\n",
       "    <tr>\n",
       "      <th>0</th>\n",
       "      <td>running mayor 2016 thennorfolk sheriff bob mcc...</td>\n",
       "      <td>1</td>\n",
       "      <td>2796</td>\n",
       "    </tr>\n",
       "    <tr>\n",
       "      <th>1</th>\n",
       "      <td>ed probing former legislator money laundering ...</td>\n",
       "      <td>1</td>\n",
       "      <td>2513</td>\n",
       "    </tr>\n",
       "    <tr>\n",
       "      <th>2</th>\n",
       "      <td>enforcement directorate issued lookout notice ...</td>\n",
       "      <td>1</td>\n",
       "      <td>1891</td>\n",
       "    </tr>\n",
       "  </tbody>\n",
       "</table>\n",
       "</div>"
      ],
      "text/plain": [
       "                                         text_parsed  money_laundering  \\\n",
       "0  running mayor 2016 thennorfolk sheriff bob mcc...                 1   \n",
       "1  ed probing former legislator money laundering ...                 1   \n",
       "2  enforcement directorate issued lookout notice ...                 1   \n",
       "\n",
       "   text_parsed_length  \n",
       "0                2796  \n",
       "1                2513  \n",
       "2                1891  "
      ]
     },
     "execution_count": 4,
     "metadata": {},
     "output_type": "execute_result"
    }
   ],
   "source": [
    "df.head(3)"
   ]
  },
  {
   "cell_type": "code",
   "execution_count": 5,
   "metadata": {},
   "outputs": [],
   "source": [
    "x_train, x_test, y_train, y_test = train_test_split(df['text_parsed'], \n",
    "                                                    df['money_laundering'],\n",
    "                                                    test_size=0.25,\n",
    "                                                   )"
   ]
  },
  {
   "cell_type": "code",
   "execution_count": 6,
   "metadata": {},
   "outputs": [],
   "source": [
    "vocab_size = 3000\n",
    "embedded_dim = 8\n",
    "max_len = 120\n",
    "trunc_type = 'post'\n",
    "oov_tok = \"<OOV>\""
   ]
  },
  {
   "cell_type": "code",
   "execution_count": 7,
   "metadata": {},
   "outputs": [],
   "source": [
    "tokenizer = Tokenizer(num_words=vocab_size, oov_token=oov_tok)\n"
   ]
  },
  {
   "cell_type": "code",
   "execution_count": 8,
   "metadata": {},
   "outputs": [],
   "source": [
    "tokenizer.fit_on_texts(x_train)\n",
    "word_index = tokenizer.word_index\n",
    "sequences = tokenizer.texts_to_sequences(x_train)"
   ]
  },
  {
   "cell_type": "code",
   "execution_count": 9,
   "metadata": {},
   "outputs": [
    {
     "data": {
      "text/plain": [
       "7519"
      ]
     },
     "execution_count": 9,
     "metadata": {},
     "output_type": "execute_result"
    }
   ],
   "source": [
    "len(word_index)\n"
   ]
  },
  {
   "cell_type": "code",
   "execution_count": 10,
   "metadata": {},
   "outputs": [],
   "source": [
    "padded = pad_sequences(sequences,maxlen=max_len, truncating=trunc_type)"
   ]
  },
  {
   "cell_type": "code",
   "execution_count": 11,
   "metadata": {},
   "outputs": [
    {
     "data": {
      "text/plain": [
       "(134, 120)"
      ]
     },
     "execution_count": 11,
     "metadata": {},
     "output_type": "execute_result"
    }
   ],
   "source": [
    "padded.shape"
   ]
  },
  {
   "cell_type": "code",
   "execution_count": 12,
   "metadata": {},
   "outputs": [],
   "source": [
    "testing_sequences = tokenizer.texts_to_sequences(x_test)\n",
    "testing_padded = pad_sequences(testing_sequences, maxlen=max_len)"
   ]
  },
  {
   "cell_type": "code",
   "execution_count": 13,
   "metadata": {},
   "outputs": [
    {
     "data": {
      "text/plain": [
       "(66, 120)"
      ]
     },
     "execution_count": 13,
     "metadata": {},
     "output_type": "execute_result"
    }
   ],
   "source": [
    "testing_padded.shape"
   ]
  },
  {
   "cell_type": "code",
   "execution_count": 14,
   "metadata": {
    "scrolled": false
   },
   "outputs": [
    {
     "name": "stdout",
     "output_type": "stream",
     "text": [
      "WARNING:tensorflow:From C:\\Users\\pengu\\Anaconda3\\lib\\site-packages\\tensorflow\\python\\keras\\initializers.py:119: calling RandomUniform.__init__ (from tensorflow.python.ops.init_ops) with dtype is deprecated and will be removed in a future version.\n",
      "Instructions for updating:\n",
      "Call initializer instance with the dtype argument instead of passing it to the constructor\n",
      "WARNING:tensorflow:From C:\\Users\\pengu\\Anaconda3\\lib\\site-packages\\tensorflow\\python\\ops\\init_ops.py:1251: calling VarianceScaling.__init__ (from tensorflow.python.ops.init_ops) with dtype is deprecated and will be removed in a future version.\n",
      "Instructions for updating:\n",
      "Call initializer instance with the dtype argument instead of passing it to the constructor\n"
     ]
    }
   ],
   "source": [
    "model = tf.keras.Sequential([\n",
    "    tf.keras.layers.Embedding(vocab_size,embedded_dim,input_length=max_len),\n",
    "    tf.keras.layers.GlobalMaxPooling1D(),\n",
    "    tf.keras.layers.Dense(30, activation='relu'),\n",
    "    tf.keras.layers.Dense(4, activation='softmax')\n",
    "])"
   ]
  },
  {
   "cell_type": "code",
   "execution_count": 15,
   "metadata": {},
   "outputs": [],
   "source": [
    "model.compile(loss='sparse_categorical_crossentropy',metrics=['acc'], optimizer='adam')\n"
   ]
  },
  {
   "cell_type": "code",
   "execution_count": 16,
   "metadata": {
    "scrolled": true
   },
   "outputs": [
    {
     "name": "stdout",
     "output_type": "stream",
     "text": [
      "Train on 134 samples, validate on 66 samples\n",
      "Epoch 1/10\n",
      "134/134 [==============================] - 0s 971us/sample - loss: 1.4026 - acc: 0.0000e+00 - val_loss: 1.3883 - val_acc: 0.0000e+00\n",
      "Epoch 2/10\n",
      "134/134 [==============================] - 0s 90us/sample - loss: 1.3844 - acc: 0.0000e+00 - val_loss: 1.3718 - val_acc: 0.0000e+00\n",
      "Epoch 3/10\n",
      "134/134 [==============================] - 0s 75us/sample - loss: 1.3662 - acc: 0.0299 - val_loss: 1.3555 - val_acc: 0.7121\n",
      "Epoch 4/10\n",
      "134/134 [==============================] - 0s 45us/sample - loss: 1.3484 - acc: 0.7687 - val_loss: 1.3396 - val_acc: 0.7121\n",
      "Epoch 5/10\n",
      "134/134 [==============================] - 0s 60us/sample - loss: 1.3311 - acc: 0.7687 - val_loss: 1.3244 - val_acc: 0.7121\n",
      "Epoch 6/10\n",
      "134/134 [==============================] - 0s 75us/sample - loss: 1.3151 - acc: 0.7687 - val_loss: 1.3097 - val_acc: 0.7121\n",
      "Epoch 7/10\n",
      "134/134 [==============================] - 0s 54us/sample - loss: 1.2992 - acc: 0.7687 - val_loss: 1.2949 - val_acc: 0.7121\n",
      "Epoch 8/10\n",
      "134/134 [==============================] - 0s 67us/sample - loss: 1.2830 - acc: 0.7687 - val_loss: 1.2800 - val_acc: 0.7121\n",
      "Epoch 9/10\n",
      "134/134 [==============================] - 0s 45us/sample - loss: 1.2664 - acc: 0.7687 - val_loss: 1.2646 - val_acc: 0.7121\n",
      "Epoch 10/10\n",
      "134/134 [==============================] - 0s 67us/sample - loss: 1.2495 - acc: 0.7687 - val_loss: 1.2488 - val_acc: 0.7121\n"
     ]
    }
   ],
   "source": [
    "hist = model.fit(padded,y_train,batch_size=64, epochs=10, validation_data=(testing_padded,y_test))"
   ]
  },
  {
   "cell_type": "code",
   "execution_count": 17,
   "metadata": {},
   "outputs": [
    {
     "name": "stdout",
     "output_type": "stream",
     "text": [
      "{'loss': [1.402553024576671, 1.3843509634928917, 1.3661576313758963, 1.3484452215593252, 1.3310964267645309, 1.3151183840054184, 1.2991831889793055, 1.2829853830052846, 1.2663976274319548, 1.2495149302838453], 'acc': [0.0, 0.0, 0.029850746, 0.76865673, 0.76865673, 0.76865673, 0.76865673, 0.76865673, 0.76865673, 0.76865673], 'val_loss': [1.38826102921457, 1.3718063722957263, 1.3555261799783418, 1.3395946459336714, 1.324439200488004, 1.3097055680824048, 1.2949471834934119, 1.279953815720298, 1.2646084120779326, 1.248786854021477], 'val_acc': [0.0, 0.0, 0.7121212, 0.7121212, 0.7121212, 0.7121212, 0.7121212, 0.7121212, 0.7121212, 0.7121212]}\n"
     ]
    }
   ],
   "source": [
    "print(hist.history)"
   ]
  },
  {
   "cell_type": "code",
   "execution_count": 18,
   "metadata": {},
   "outputs": [
    {
     "data": {
      "image/png": "[encoded data removed]",
      "text/plain": [
       "<Figure size 432x288 with 1 Axes>"
      ]
     },
     "metadata": {
      "needs_background": "light"
     },
     "output_type": "display_data"
    }
   ],
   "source": [
    "plt.plot(hist.history['loss'])\n",
    "plt.plot(hist.history['val_loss'])\n",
    "plt.title('model loss')\n",
    "plt.ylabel('loss')\n",
    "plt.xlabel('epoch')\n",
    "plt.legend(['train', 'test'], loc='upper left')\n",
    "plt.show()"
   ]
  },
  {
   "cell_type": "code",
   "execution_count": 19,
   "metadata": {},
   "outputs": [
    {
     "data": {
      "image/png": "[encoded data removed]",
      "text/plain": [
       "<Figure size 432x288 with 1 Axes>"
      ]
     },
     "metadata": {
      "needs_background": "light"
     },
     "output_type": "display_data"
    }
   ],
   "source": [
    "plt.plot(hist.history['acc'])\n",
    "plt.plot(hist.history['val_acc'])\n",
    "plt.title('model accuracy')\n",
    "plt.ylabel('accuracy')\n",
    "plt.xlabel('epoch')\n",
    "plt.legend(['train', 'test'], loc='upper left')\n",
    "plt.show()"
   ]
  },
  {
   "cell_type": "code",
   "execution_count": 20,
   "metadata": {},
   "outputs": [],
   "source": [
    "model = tf.keras.Sequential([\n",
    "    tf.keras.layers.Embedding(vocab_size,embedded_dim,input_length=max_len),\n",
    "    tf.keras.layers.LSTM(15, return_sequences=True),\n",
    "    tf.keras.layers.GlobalMaxPooling1D(),\n",
    "    tf.keras.layers.Dense(30, activation='relu'),\n",
    "    tf.keras.layers.Dense(4, activation='softmax')\n",
    "])"
   ]
  },
  {
   "cell_type": "code",
   "execution_count": 21,
   "metadata": {},
   "outputs": [],
   "source": [
    "model.compile(loss='sparse_categorical_crossentropy',metrics=['acc'], optimizer='adam')"
   ]
  },
  {
   "cell_type": "code",
   "execution_count": 22,
   "metadata": {
    "scrolled": true
   },
   "outputs": [
    {
     "name": "stdout",
     "output_type": "stream",
     "text": [
      "Train on 134 samples, validate on 66 samples\n",
      "WARNING:tensorflow:From C:\\Users\\pengu\\Anaconda3\\lib\\site-packages\\tensorflow\\python\\ops\\math_grad.py:1250: add_dispatch_support.<locals>.wrapper (from tensorflow.python.ops.array_ops) is deprecated and will be removed in a future version.\n",
      "Instructions for updating:\n",
      "Use tf.where in 2.0, which has the same broadcast rule as np.where\n",
      "Epoch 1/10\n",
      "134/134 [==============================] - 1s 7ms/sample - loss: 1.3990 - acc: 0.0000e+00 - val_loss: 1.3868 - val_acc: 0.1667\n",
      "Epoch 2/10\n",
      "134/134 [==============================] - 0s 2ms/sample - loss: 1.3826 - acc: 0.4328 - val_loss: 1.3736 - val_acc: 0.7121\n",
      "Epoch 3/10\n",
      "134/134 [==============================] - 0s 2ms/sample - loss: 1.3695 - acc: 0.7687 - val_loss: 1.3637 - val_acc: 0.7121\n",
      "Epoch 4/10\n",
      "134/134 [==============================] - 0s 3ms/sample - loss: 1.3594 - acc: 0.7687 - val_loss: 1.3541 - val_acc: 0.7121\n",
      "Epoch 5/10\n",
      "134/134 [==============================] - 0s 3ms/sample - loss: 1.3490 - acc: 0.7687 - val_loss: 1.3442 - val_acc: 0.7121\n",
      "Epoch 6/10\n",
      "134/134 [==============================] - 0s 3ms/sample - loss: 1.3382 - acc: 0.7687 - val_loss: 1.3337 - val_acc: 0.7121\n",
      "Epoch 7/10\n",
      "134/134 [==============================] - 0s 3ms/sample - loss: 1.3266 - acc: 0.7687 - val_loss: 1.3226 - val_acc: 0.7121\n",
      "Epoch 8/10\n",
      "134/134 [==============================] - 0s 3ms/sample - loss: 1.3142 - acc: 0.7687 - val_loss: 1.3105 - val_acc: 0.7121\n",
      "Epoch 9/10\n",
      "134/134 [==============================] - 0s 3ms/sample - loss: 1.3009 - acc: 0.7687 - val_loss: 1.2970 - val_acc: 0.7121\n",
      "Epoch 10/10\n",
      "134/134 [==============================] - 0s 3ms/sample - loss: 1.2860 - acc: 0.7687 - val_loss: 1.2817 - val_acc: 0.7121\n"
     ]
    }
   ],
   "source": [
    "hist = model.fit(padded,y_train,batch_size=64, epochs=10, validation_data=(testing_padded,y_test))"
   ]
  },
  {
   "cell_type": "code",
   "execution_count": 23,
   "metadata": {},
   "outputs": [
    {
     "name": "stdout",
     "output_type": "stream",
     "text": [
      "{'loss': [1.3989883750232297, 1.3825579330102722, 1.3694605311351036, 1.359364111032059, 1.349030629912419, 1.338246646212108, 1.3266006512428397, 1.3142068012436825, 1.300883914107707, 1.2859640922119369], 'acc': [0.0, 0.43283582, 0.76865673, 0.76865673, 0.76865673, 0.76865673, 0.76865673, 0.76865673, 0.76865673, 0.76865673], 'val_loss': [1.3867538553295713, 1.3736406673084607, 1.363709240248709, 1.354130101926399, 1.344209894989476, 1.333726420547023, 1.3226097894437385, 1.310539231155858, 1.2970248460769653, 1.281715609810569], 'val_acc': [0.16666667, 0.7121212, 0.7121212, 0.7121212, 0.7121212, 0.7121212, 0.7121212, 0.7121212, 0.7121212, 0.7121212]}\n"
     ]
    }
   ],
   "source": [
    "print(hist.history)"
   ]
  },
  {
   "cell_type": "code",
   "execution_count": 24,
   "metadata": {},
   "outputs": [
    {
     "data": {
      "image/png": "[encoded data removed]",
      "text/plain": [
       "<Figure size 432x288 with 1 Axes>"
      ]
     },
     "metadata": {
      "needs_background": "light"
     },
     "output_type": "display_data"
    }
   ],
   "source": [
    "plt.plot(hist.history['loss'])\n",
    "plt.plot(hist.history['val_loss'])\n",
    "plt.title('model loss')\n",
    "plt.ylabel('loss')\n",
    "plt.xlabel('epoch')\n",
    "plt.legend(['train', 'test'], loc='upper left')\n",
    "plt.show()"
   ]
  },
  {
   "cell_type": "code",
   "execution_count": 25,
   "metadata": {},
   "outputs": [
    {
     "data": {
      "image/png": "[encoded data removed]",
      "text/plain": [
       "<Figure size 432x288 with 1 Axes>"
      ]
     },
     "metadata": {
      "needs_background": "light"
     },
     "output_type": "display_data"
    }
   ],
   "source": [
    "plt.plot(hist.history['acc'])\n",
    "plt.plot(hist.history['val_acc'])\n",
    "plt.title('model accuracy')\n",
    "plt.ylabel('accuracy')\n",
    "plt.xlabel('epoch')\n",
    "plt.legend(['train', 'test'], loc='upper left')\n",
    "plt.show()"
   ]
  },
  {
   "cell_type": "code",
   "execution_count": 26,
   "metadata": {
    "scrolled": true
   },
   "outputs": [
    {
     "name": "stdout",
     "output_type": "stream",
     "text": [
      "WARNING:tensorflow:From C:\\Users\\pengu\\Anaconda3\\lib\\site-packages\\tensorflow\\python\\ops\\init_ops.py:97: calling GlorotUniform.__init__ (from tensorflow.python.ops.init_ops) with dtype is deprecated and will be removed in a future version.\n",
      "Instructions for updating:\n",
      "Call initializer instance with the dtype argument instead of passing it to the constructor\n",
      "WARNING:tensorflow:From C:\\Users\\pengu\\Anaconda3\\lib\\site-packages\\tensorflow\\python\\ops\\init_ops.py:97: calling Orthogonal.__init__ (from tensorflow.python.ops.init_ops) with dtype is deprecated and will be removed in a future version.\n",
      "Instructions for updating:\n",
      "Call initializer instance with the dtype argument instead of passing it to the constructor\n",
      "WARNING:tensorflow:From C:\\Users\\pengu\\Anaconda3\\lib\\site-packages\\tensorflow\\python\\ops\\init_ops.py:97: calling Zeros.__init__ (from tensorflow.python.ops.init_ops) with dtype is deprecated and will be removed in a future version.\n",
      "Instructions for updating:\n",
      "Call initializer instance with the dtype argument instead of passing it to the constructor\n"
     ]
    }
   ],
   "source": [
    "model = tf.keras.Sequential([\n",
    "    tf.keras.layers.Embedding(vocab_size,embedded_dim,input_length=max_len),\n",
    "    tf.keras.layers.Bidirectional(LSTM(15, return_sequences=True)),\n",
    "    tf.keras.layers.GlobalMaxPooling1D(),\n",
    "    tf.keras.layers.Dense(30, activation='relu'),\n",
    "    tf.keras.layers.Dense(4, activation='softmax')\n",
    "])"
   ]
  },
  {
   "cell_type": "code",
   "execution_count": 27,
   "metadata": {},
   "outputs": [],
   "source": [
    "model.compile(loss='sparse_categorical_crossentropy',metrics=['acc'], optimizer='adam')"
   ]
  },
  {
   "cell_type": "code",
   "execution_count": 28,
   "metadata": {},
   "outputs": [
    {
     "name": "stdout",
     "output_type": "stream",
     "text": [
      "Train on 134 samples, validate on 66 samples\n",
      "Epoch 1/10\n",
      "134/134 [==============================] - 2s 14ms/sample - loss: 1.3846 - acc: 0.3209 - val_loss: 1.3706 - val_acc: 0.7121\n",
      "Epoch 2/10\n",
      "134/134 [==============================] - 1s 5ms/sample - loss: 1.3636 - acc: 0.7687 - val_loss: 1.3533 - val_acc: 0.7121\n",
      "Epoch 3/10\n",
      "134/134 [==============================] - 1s 6ms/sample - loss: 1.3440 - acc: 0.7687 - val_loss: 1.3359 - val_acc: 0.7121\n",
      "Epoch 4/10\n",
      "134/134 [==============================] - 1s 5ms/sample - loss: 1.3237 - acc: 0.7687 - val_loss: 1.3171 - val_acc: 0.7121\n",
      "Epoch 5/10\n",
      "134/134 [==============================] - 1s 5ms/sample - loss: 1.3018 - acc: 0.7687 - val_loss: 1.2962 - val_acc: 0.7121\n",
      "Epoch 6/10\n",
      "134/134 [==============================] - 1s 5ms/sample - loss: 1.2765 - acc: 0.7687 - val_loss: 1.2728 - val_acc: 0.7121\n",
      "Epoch 7/10\n",
      "134/134 [==============================] - 1s 5ms/sample - loss: 1.2490 - acc: 0.7687 - val_loss: 1.2460 - val_acc: 0.7121\n",
      "Epoch 8/10\n",
      "134/134 [==============================] - 1s 5ms/sample - loss: 1.2169 - acc: 0.7687 - val_loss: 1.2146 - val_acc: 0.7121\n",
      "Epoch 9/10\n",
      "134/134 [==============================] - 1s 5ms/sample - loss: 1.1787 - acc: 0.7687 - val_loss: 1.1767 - val_acc: 0.7121\n",
      "Epoch 10/10\n",
      "134/134 [==============================] - 1s 5ms/sample - loss: 1.1353 - acc: 0.7687 - val_loss: 1.1306 - val_acc: 0.7121\n"
     ]
    }
   ],
   "source": [
    "hist = model.fit(padded,y_train,batch_size=64, epochs=10, validation_data=(testing_padded,y_test))"
   ]
  },
  {
   "cell_type": "code",
   "execution_count": 29,
   "metadata": {},
   "outputs": [
    {
     "name": "stdout",
     "output_type": "stream",
     "text": [
      "{'loss': [1.3846123449837984, 1.363630869495335, 1.3439644076930943, 1.323689857525612, 1.3017747135304694, 1.2765059346583352, 1.2490220745997642, 1.2168653046906883, 1.1787432788023309, 1.1352808706795992], 'acc': [0.32089552, 0.76865673, 0.76865673, 0.76865673, 0.76865673, 0.76865673, 0.76865673, 0.76865673, 0.76865673, 0.76865673], 'val_loss': [1.3706148465474446, 1.3532664017243818, 1.3359175595370205, 1.3170871590123032, 1.2962139953266492, 1.2727803894967744, 1.2460320320996372, 1.2145541725736675, 1.176694342584321, 1.1306430354262844], 'val_acc': [0.7121212, 0.7121212, 0.7121212, 0.7121212, 0.7121212, 0.7121212, 0.7121212, 0.7121212, 0.7121212, 0.7121212]}\n"
     ]
    }
   ],
   "source": [
    "print(hist.history)"
   ]
  },
  {
   "cell_type": "code",
   "execution_count": 30,
   "metadata": {},
   "outputs": [
    {
     "data": {
      "image/png": "[encoded data removed]",
      "text/plain": [
       "<Figure size 432x288 with 1 Axes>"
      ]
     },
     "metadata": {
      "needs_background": "light"
     },
     "output_type": "display_data"
    }
   ],
   "source": [
    "plt.plot(hist.history['loss'])\n",
    "plt.plot(hist.history['val_loss'])\n",
    "plt.title('model loss')\n",
    "plt.ylabel('loss')\n",
    "plt.xlabel('epoch')\n",
    "plt.legend(['train', 'test'], loc='upper left')\n",
    "plt.show()"
   ]
  },
  {
   "cell_type": "code",
   "execution_count": 31,
   "metadata": {},
   "outputs": [
    {
     "data": {
      "image/png": "[encoded data removed]",
      "text/plain": [
       "<Figure size 432x288 with 1 Axes>"
      ]
     },
     "metadata": {
      "needs_background": "light"
     },
     "output_type": "display_data"
    }
   ],
   "source": [
    "plt.plot(hist.history['acc'])\n",
    "plt.plot(hist.history['val_acc'])\n",
    "plt.title('model accuracy')\n",
    "plt.ylabel('accuracy')\n",
    "plt.xlabel('epoch')\n",
    "plt.legend(['train', 'test'], loc='upper left')\n",
    "plt.show()"
   ]
  },
  {
   "cell_type": "code",
   "execution_count": 32,
   "metadata": {},
   "outputs": [],
   "source": [
    "model = tf.keras.Sequential([\n",
    "    tf.keras.layers.Embedding(vocab_size,embedded_dim,input_length=max_len),\n",
    "    tf.keras.layers.GRU(15, return_sequences=True),\n",
    "    tf.keras.layers.GlobalMaxPooling1D(),\n",
    "    tf.keras.layers.Dense(30, activation='relu'),\n",
    "    tf.keras.layers.Dense(4, activation='softmax')\n",
    "])"
   ]
  },
  {
   "cell_type": "code",
   "execution_count": 33,
   "metadata": {},
   "outputs": [],
   "source": [
    "model.compile(loss='sparse_categorical_crossentropy',metrics=['acc'], optimizer='adam')"
   ]
  },
  {
   "cell_type": "code",
   "execution_count": 34,
   "metadata": {},
   "outputs": [
    {
     "name": "stdout",
     "output_type": "stream",
     "text": [
      "Train on 134 samples, validate on 66 samples\n",
      "Epoch 1/10\n",
      "134/134 [==============================] - 1s 8ms/sample - loss: 1.3900 - acc: 0.0224 - val_loss: 1.3792 - val_acc: 0.7121\n",
      "Epoch 2/10\n",
      "134/134 [==============================] - 0s 3ms/sample - loss: 1.3739 - acc: 0.7687 - val_loss: 1.3678 - val_acc: 0.7121\n",
      "Epoch 3/10\n",
      "134/134 [==============================] - 0s 3ms/sample - loss: 1.3604 - acc: 0.7687 - val_loss: 1.3566 - val_acc: 0.7121\n",
      "Epoch 4/10\n",
      "134/134 [==============================] - 0s 3ms/sample - loss: 1.3473 - acc: 0.7687 - val_loss: 1.3452 - val_acc: 0.7121\n",
      "Epoch 5/10\n",
      "134/134 [==============================] - 0s 3ms/sample - loss: 1.3340 - acc: 0.7687 - val_loss: 1.3330 - val_acc: 0.7121\n",
      "Epoch 6/10\n",
      "134/134 [==============================] - 0s 3ms/sample - loss: 1.3195 - acc: 0.7687 - val_loss: 1.3202 - val_acc: 0.7121\n",
      "Epoch 7/10\n",
      "134/134 [==============================] - 0s 3ms/sample - loss: 1.3048 - acc: 0.7687 - val_loss: 1.3063 - val_acc: 0.7121\n",
      "Epoch 8/10\n",
      "134/134 [==============================] - 0s 3ms/sample - loss: 1.2882 - acc: 0.7687 - val_loss: 1.2906 - val_acc: 0.7121\n",
      "Epoch 9/10\n",
      "134/134 [==============================] - 0s 3ms/sample - loss: 1.2697 - acc: 0.7687 - val_loss: 1.2736 - val_acc: 0.7121\n",
      "Epoch 10/10\n",
      "134/134 [==============================] - 0s 3ms/sample - loss: 1.2501 - acc: 0.7687 - val_loss: 1.2560 - val_acc: 0.7121\n"
     ]
    }
   ],
   "source": [
    "hist = model.fit(padded,y_train,batch_size=64, epochs=10, validation_data=(testing_padded,y_test))"
   ]
  },
  {
   "cell_type": "code",
   "execution_count": 35,
   "metadata": {},
   "outputs": [
    {
     "name": "stdout",
     "output_type": "stream",
     "text": [
      "{'loss': [1.3900253078830775, 1.3739447540311671, 1.360443102779673, 1.3472749386260758, 1.3339874922339596, 1.3194885004812211, 1.3047562926562863, 1.2882151817207905, 1.2696538843325715, 1.2501116439477722], 'acc': [0.02238806, 0.76865673, 0.76865673, 0.76865673, 0.76865673, 0.76865673, 0.76865673, 0.76865673, 0.76865673, 0.76865673], 'val_loss': [1.3791500546715476, 1.3678100687084775, 1.3566107171954531, 1.3452266418572627, 1.3329881538044324, 1.3202207232966567, 1.3062566554907598, 1.290594144300981, 1.2736420450788555, 1.255955696105957], 'val_acc': [0.7121212, 0.7121212, 0.7121212, 0.7121212, 0.7121212, 0.7121212, 0.7121212, 0.7121212, 0.7121212, 0.7121212]}\n"
     ]
    }
   ],
   "source": [
    "print(hist.history)"
   ]
  },
  {
   "cell_type": "code",
   "execution_count": 36,
   "metadata": {},
   "outputs": [
    {
     "data": {
      "image/png": "[encoded data removed]",
      "text/plain": [
       "<Figure size 432x288 with 1 Axes>"
      ]
     },
     "metadata": {
      "needs_background": "light"
     },
     "output_type": "display_data"
    }
   ],
   "source": [
    "plt.plot(hist.history['loss'])\n",
    "plt.plot(hist.history['val_loss'])\n",
    "plt.title('model loss')\n",
    "plt.ylabel('loss')\n",
    "plt.xlabel('epoch')\n",
    "plt.legend(['train', 'test'], loc='upper left')\n",
    "plt.show()"
   ]
  },
  {
   "cell_type": "code",
   "execution_count": 37,
   "metadata": {},
   "outputs": [
    {
     "data": {
      "image/png": "[encoded data removed]",
      "text/plain": [
       "<Figure size 432x288 with 1 Axes>"
      ]
     },
     "metadata": {
      "needs_background": "light"
     },
     "output_type": "display_data"
    }
   ],
   "source": [
    "plt.plot(hist.history['acc'])\n",
    "plt.plot(hist.history['val_acc'])\n",
    "plt.title('model accuracy')\n",
    "plt.ylabel('accuracy')\n",
    "plt.xlabel('epoch')\n",
    "plt.legend(['train', 'test'], loc='upper left')\n",
    "plt.show()"
   ]
  },
  {
   "cell_type": "code",
   "execution_count": 38,
   "metadata": {},
   "outputs": [],
   "source": [
    "model = tf.keras.Sequential([\n",
    "    tf.keras.layers.Embedding(vocab_size,embedded_dim,input_length=max_len),\n",
    "    tf.keras.layers.Bidirectional(GRU(15, return_sequences=True)),\n",
    "    tf.keras.layers.GlobalMaxPooling1D(),\n",
    "    tf.keras.layers.Dense(30, activation='relu'),\n",
    "    tf.keras.layers.Dense(4, activation='softmax')\n",
    "])"
   ]
  },
  {
   "cell_type": "code",
   "execution_count": null,
   "metadata": {},
   "outputs": [],
   "source": [
    "model.compile(loss='sparse_categorical_crossentropy',metrics=['acc'], optimizer='adam')"
   ]
  },
  {
   "cell_type": "code",
   "execution_count": null,
   "metadata": {},
   "outputs": [],
   "source": [
    "hist = model.fit(padded,y_train,batch_size=64, epochs=10, validation_data=(testing_padded,y_test))"
   ]
  },
  {
   "cell_type": "code",
   "execution_count": null,
   "metadata": {},
   "outputs": [],
   "source": [
    "print(hist.history)"
   ]
  },
  {
   "cell_type": "code",
   "execution_count": null,
   "metadata": {},
   "outputs": [],
   "source": [
    "plt.plot(hist.history['loss'])\n",
    "plt.plot(hist.history['val_loss'])\n",
    "plt.title('model loss')\n",
    "plt.ylabel('loss')\n",
    "plt.xlabel('epoch')\n",
    "plt.legend(['train', 'test'], loc='upper left')\n",
    "plt.show()"
   ]
  },
  {
   "cell_type": "code",
   "execution_count": null,
   "metadata": {},
   "outputs": [],
   "source": [
    "plt.plot(hist.history['acc'])\n",
    "plt.plot(hist.history['val_acc'])\n",
    "plt.title('model accuracy')\n",
    "plt.ylabel('accuracy')\n",
    "plt.xlabel('epoch')\n",
    "plt.legend(['train', 'test'], loc='upper left')\n",
    "plt.show()"
   ]
  },
  {
   "cell_type": "code",
   "execution_count": null,
   "metadata": {},
   "outputs": [],
   "source": [
    "model = tf.keras.Sequential([\n",
    "    tf.keras.layers.Embedding(vocab_size,embedded_dim,input_length=max_len),\n",
    "    tf.keras.layers.Conv1D(128, 5, activation='relu'),\n",
    "    tf.keras.layers.GlobalAveragePooling1D(),\n",
    "    tf.keras.layers.Dense(50, activation='relu'),\n",
    "    tf.keras.layers.Dense(4, activation='softmax')\n",
    "])"
   ]
  },
  {
   "cell_type": "code",
   "execution_count": null,
   "metadata": {},
   "outputs": [],
   "source": [
    "model.compile(loss='sparse_categorical_crossentropy',metrics=['acc'], optimizer='adam')"
   ]
  },
  {
   "cell_type": "code",
   "execution_count": null,
   "metadata": {},
   "outputs": [],
   "source": [
    "hist = model.fit(padded,y_train,batch_size=64, epochs=10, validation_data=(testing_padded,y_test))"
   ]
  },
  {
   "cell_type": "code",
   "execution_count": null,
   "metadata": {},
   "outputs": [],
   "source": [
    "print(hist.history)"
   ]
  },
  {
   "cell_type": "code",
   "execution_count": null,
   "metadata": {},
   "outputs": [],
   "source": [
    "plt.plot(hist.history['loss'])\n",
    "plt.plot(hist.history['val_loss'])\n",
    "plt.title('model loss')\n",
    "plt.ylabel('loss')\n",
    "plt.xlabel('epoch')\n",
    "plt.legend(['train', 'test'], loc='upper left')\n",
    "plt.show()"
   ]
  },
  {
   "cell_type": "code",
   "execution_count": null,
   "metadata": {},
   "outputs": [],
   "source": [
    "plt.plot(hist.history['acc'])\n",
    "plt.plot(hist.history['val_acc'])\n",
    "plt.title('model accuracy')\n",
    "plt.ylabel('accuracy')\n",
    "plt.xlabel('epoch')\n",
    "plt.legend(['train', 'test'], loc='upper left')\n",
    "plt.show()"
   ]
  },
  {
   "cell_type": "code",
   "execution_count": null,
   "metadata": {},
   "outputs": [],
   "source": []
  }
 ],
 "metadata": {
  "kernelspec": {
   "display_name": "Python 3",
   "language": "python",
   "name": "python3"
  },
  "language_info": {
   "codemirror_mode": {
    "name": "ipython",
    "version": 3
   },
   "file_extension": ".py",
   "mimetype": "text/x-python",
   "name": "python",
   "nbconvert_exporter": "python",
   "pygments_lexer": "ipython3",
   "version": "3.7.3"
  }
 },
 "nbformat": 4,
 "nbformat_minor": 2
}
