{
 "cells": [
  {
   "cell_type": "code",
   "execution_count": 22,
   "metadata": {},
   "outputs": [],
   "source": [
    "import pandas as pd\n",
    "import matplotlib.pyplot as plt\n",
    "import seaborn as sns\n",
    "import numpy as np\n",
    "\n",
    "import re\n",
    "import warnings\n",
    "warnings.filterwarnings(\"ignore\")"
   ]
  },
  {
   "cell_type": "code",
   "execution_count": 4,
   "metadata": {},
   "outputs": [],
   "source": [
    "import nltk\n",
    "from nltk.corpus import stopwords\n",
    "from wordcloud import WordCloud ,STOPWORDS\n",
    "from nltk.stem import WordNetLemmatizer\n",
    "from nltk.tokenize import word_tokenize"
   ]
  },
  {
   "cell_type": "code",
   "execution_count": 5,
   "metadata": {},
   "outputs": [],
   "source": [
    "from sklearn.feature_extraction.text import TfidfVectorizer\n",
    "from sklearn.model_selection import train_test_split\n",
    "from sklearn.metrics import accuracy_score, classification_report\n",
    "from sklearn.linear_model import LogisticRegression\n",
    "from sklearn.tree import DecisionTreeClassifier\n",
    "from sklearn.neighbors import KNeighborsClassifier\n",
    "from sklearn.discriminant_analysis import LinearDiscriminantAnalysis\n",
    "from sklearn.naive_bayes import GaussianNB\n",
    "from sklearn.svm import SVC"
   ]
  },
  {
   "cell_type": "code",
   "execution_count": 10,
   "metadata": {},
   "outputs": [],
   "source": [
    "bbc_data = pd.read_csv(\"./datasets/BBC News Train.csv\")\n",
    "ml_data = pd.read_csv(\"./datasets/money_laundering_articles.csv\")"
   ]
  },
  {
   "cell_type": "code",
   "execution_count": 11,
   "metadata": {},
   "outputs": [
    {
     "data": {
      "text/html": [
       "<div>\n",
       "<style scoped>\n",
       "    .dataframe tbody tr th:only-of-type {\n",
       "        vertical-align: middle;\n",
       "    }\n",
       "\n",
       "    .dataframe tbody tr th {\n",
       "        vertical-align: top;\n",
       "    }\n",
       "\n",
       "    .dataframe thead th {\n",
       "        text-align: right;\n",
       "    }\n",
       "</style>\n",
       "<table border=\"1\" class=\"dataframe\">\n",
       "  <thead>\n",
       "    <tr style=\"text-align: right;\">\n",
       "      <th></th>\n",
       "      <th>ArticleId</th>\n",
       "      <th>Text</th>\n",
       "      <th>Category</th>\n",
       "    </tr>\n",
       "  </thead>\n",
       "  <tbody>\n",
       "    <tr>\n",
       "      <th>561</th>\n",
       "      <td>293</td>\n",
       "      <td>christmas song formula  unveiled a formula for...</td>\n",
       "      <td>entertainment</td>\n",
       "    </tr>\n",
       "    <tr>\n",
       "      <th>1397</th>\n",
       "      <td>1937</td>\n",
       "      <td>more power to the people says hp the digital r...</td>\n",
       "      <td>tech</td>\n",
       "    </tr>\n",
       "    <tr>\n",
       "      <th>366</th>\n",
       "      <td>400</td>\n",
       "      <td>lib dems   bold  election policy charles kenne...</td>\n",
       "      <td>politics</td>\n",
       "    </tr>\n",
       "    <tr>\n",
       "      <th>298</th>\n",
       "      <td>25</td>\n",
       "      <td>mobile audio enters new dimension as mobile ph...</td>\n",
       "      <td>tech</td>\n",
       "    </tr>\n",
       "    <tr>\n",
       "      <th>951</th>\n",
       "      <td>156</td>\n",
       "      <td>the comic book genius of stan lee stan lee  th...</td>\n",
       "      <td>entertainment</td>\n",
       "    </tr>\n",
       "  </tbody>\n",
       "</table>\n",
       "</div>"
      ],
      "text/plain": [
       "      ArticleId                                               Text  \\\n",
       "561         293  christmas song formula  unveiled a formula for...   \n",
       "1397       1937  more power to the people says hp the digital r...   \n",
       "366         400  lib dems   bold  election policy charles kenne...   \n",
       "298          25  mobile audio enters new dimension as mobile ph...   \n",
       "951         156  the comic book genius of stan lee stan lee  th...   \n",
       "\n",
       "           Category  \n",
       "561   entertainment  \n",
       "1397           tech  \n",
       "366        politics  \n",
       "298            tech  \n",
       "951   entertainment  "
      ]
     },
     "execution_count": 11,
     "metadata": {},
     "output_type": "execute_result"
    }
   ],
   "source": [
    "bbc_data.sample(5)"
   ]
  },
  {
   "cell_type": "code",
   "execution_count": 13,
   "metadata": {},
   "outputs": [
    {
     "data": {
      "text/html": [
       "<div>\n",
       "<style scoped>\n",
       "    .dataframe tbody tr th:only-of-type {\n",
       "        vertical-align: middle;\n",
       "    }\n",
       "\n",
       "    .dataframe tbody tr th {\n",
       "        vertical-align: top;\n",
       "    }\n",
       "\n",
       "    .dataframe thead th {\n",
       "        text-align: right;\n",
       "    }\n",
       "</style>\n",
       "<table border=\"1\" class=\"dataframe\">\n",
       "  <thead>\n",
       "    <tr style=\"text-align: right;\">\n",
       "      <th></th>\n",
       "      <th>title</th>\n",
       "      <th>text</th>\n",
       "      <th>source_url</th>\n",
       "      <th>money_laundering</th>\n",
       "      <th>allegations</th>\n",
       "      <th>accusations</th>\n",
       "      <th>charges_conviction</th>\n",
       "      <th>sentencing</th>\n",
       "    </tr>\n",
       "  </thead>\n",
       "  <tbody>\n",
       "    <tr>\n",
       "      <th>0</th>\n",
       "      <td>Witness details alleged money laundering consp...</td>\n",
       "      <td>When he was running for mayor in 2016, then-No...</td>\n",
       "      <td>https://www.pilotonline.com/news/crime/vp-nw-m...</td>\n",
       "      <td>1</td>\n",
       "      <td>1</td>\n",
       "      <td>0</td>\n",
       "      <td>0</td>\n",
       "      <td>0</td>\n",
       "    </tr>\n",
       "    <tr>\n",
       "      <th>1</th>\n",
       "      <td>Court summons Gayatri Prajapati in money laund...</td>\n",
       "      <td>\\nED has been probing the former legislator on...</td>\n",
       "      <td>https://www.thehindu.com/news/national/other-s...</td>\n",
       "      <td>1</td>\n",
       "      <td>1</td>\n",
       "      <td>0</td>\n",
       "      <td>0</td>\n",
       "      <td>0</td>\n",
       "    </tr>\n",
       "    <tr>\n",
       "      <th>2</th>\n",
       "      <td>ED issues lookout notice against Anil Deshmukh...</td>\n",
       "      <td>\\n\\nThe Enforcement Directorate has issued a l...</td>\n",
       "      <td>https://scroll.in/latest/1004661/ed-issues-loo...</td>\n",
       "      <td>1</td>\n",
       "      <td>1</td>\n",
       "      <td>0</td>\n",
       "      <td>0</td>\n",
       "      <td>0</td>\n",
       "    </tr>\n",
       "    <tr>\n",
       "      <th>3</th>\n",
       "      <td>Vienna’s banking industry struggles to shake o...</td>\n",
       "      <td>\\n\\tPlease use the sharing tools found via the...</td>\n",
       "      <td>https://www.ft.com/content/cca24b53-379b-4553-...</td>\n",
       "      <td>1</td>\n",
       "      <td>1</td>\n",
       "      <td>0</td>\n",
       "      <td>0</td>\n",
       "      <td>0</td>\n",
       "    </tr>\n",
       "    <tr>\n",
       "      <th>4</th>\n",
       "      <td>Defense lawyers say 1st Amendment protected ad...</td>\n",
       "      <td>Lawyers defending the founders of the classifi...</td>\n",
       "      <td>https://www.local10.com/news/politics/2021/09/...</td>\n",
       "      <td>1</td>\n",
       "      <td>1</td>\n",
       "      <td>0</td>\n",
       "      <td>0</td>\n",
       "      <td>0</td>\n",
       "    </tr>\n",
       "  </tbody>\n",
       "</table>\n",
       "</div>"
      ],
      "text/plain": [
       "                                               title  \\\n",
       "0  Witness details alleged money laundering consp...   \n",
       "1  Court summons Gayatri Prajapati in money laund...   \n",
       "2  ED issues lookout notice against Anil Deshmukh...   \n",
       "3  Vienna’s banking industry struggles to shake o...   \n",
       "4  Defense lawyers say 1st Amendment protected ad...   \n",
       "\n",
       "                                                text  \\\n",
       "0  When he was running for mayor in 2016, then-No...   \n",
       "1  \\nED has been probing the former legislator on...   \n",
       "2  \\n\\nThe Enforcement Directorate has issued a l...   \n",
       "3  \\n\\tPlease use the sharing tools found via the...   \n",
       "4  Lawyers defending the founders of the classifi...   \n",
       "\n",
       "                                          source_url  money_laundering  \\\n",
       "0  https://www.pilotonline.com/news/crime/vp-nw-m...                 1   \n",
       "1  https://www.thehindu.com/news/national/other-s...                 1   \n",
       "2  https://scroll.in/latest/1004661/ed-issues-loo...                 1   \n",
       "3  https://www.ft.com/content/cca24b53-379b-4553-...                 1   \n",
       "4  https://www.local10.com/news/politics/2021/09/...                 1   \n",
       "\n",
       "   allegations  accusations  charges_conviction  sentencing  \n",
       "0            1            0                   0           0  \n",
       "1            1            0                   0           0  \n",
       "2            1            0                   0           0  \n",
       "3            1            0                   0           0  \n",
       "4            1            0                   0           0  "
      ]
     },
     "execution_count": 13,
     "metadata": {},
     "output_type": "execute_result"
    }
   ],
   "source": [
    "ml_data.sample(5)"
   ]
  },
  {
   "cell_type": "code",
   "execution_count": 14,
   "metadata": {},
   "outputs": [],
   "source": [
    "bbc_data['news_length'] = bbc_data['Text'].str.len()"
   ]
  },
  {
   "cell_type": "code",
   "execution_count": 16,
   "metadata": {},
   "outputs": [
    {
     "data": {
      "text/plain": [
       "Text(0.5, 1.0, 'Distribution of Article Lengths')"
      ]
     },
     "execution_count": 16,
     "metadata": {},
     "output_type": "execute_result"
    },
    {
     "data": {
      "image/png": "[encoded data removed]",
      "text/plain": [
       "<Figure size 432x288 with 1 Axes>"
      ]
     },
     "metadata": {
      "needs_background": "light"
     },
     "output_type": "display_data"
    }
   ],
   "source": [
    "sns.distplot(bbc_data['news_length']).set_title('Distribution of Article Lengths')"
   ]
  },
  {
   "cell_type": "code",
   "execution_count": 17,
   "metadata": {},
   "outputs": [
    {
     "data": {
      "text/plain": [
       "Text(0.5, 1.0, 'Distribution of Article Lengths')"
      ]
     },
     "execution_count": 17,
     "metadata": {},
     "output_type": "execute_result"
    },
    {
     "data": {
      "image/png": "[encoded data removed]",
      "text/plain": [
       "<Figure size 432x288 with 1 Axes>"
      ]
     },
     "metadata": {
      "needs_background": "light"
     },
     "output_type": "display_data"
    }
   ],
   "source": [
    "ml_data['news_length'] = ml_data['text'].str.len()\n",
    "sns.distplot(ml_data['news_length']).set_title('Distribution of Article Lengths')"
   ]
  },
  {
   "cell_type": "code",
   "execution_count": 23,
   "metadata": {},
   "outputs": [],
   "source": [
    "def process_text(text):\n",
    "    text = text.lower().replace('\\n',' ').replace('\\r','').strip()\n",
    "    text = re.sub(' +', ' ', text)\n",
    "    text = re.sub(r'[^\\w\\s]','',text)\n",
    "    \n",
    "    \n",
    "    stop_words = set(stopwords.words('english')) \n",
    "    word_tokens = word_tokenize(text) \n",
    "    filtered_sentence = [w for w in word_tokens if not w in stop_words] \n",
    "    filtered_sentence = [] \n",
    "    for w in word_tokens: \n",
    "        if w not in stop_words: \n",
    "            filtered_sentence.append(w) \n",
    "    \n",
    "    text = \" \".join(filtered_sentence)\n",
    "    return text"
   ]
  },
  {
   "cell_type": "code",
   "execution_count": 24,
   "metadata": {},
   "outputs": [],
   "source": [
    "ml_data['text_parsed'] = ml_data['text'].apply(process_text)"
   ]
  },
  {
   "cell_type": "code",
   "execution_count": 25,
   "metadata": {},
   "outputs": [
    {
     "data": {
      "text/html": [
       "<div>\n",
       "<style scoped>\n",
       "    .dataframe tbody tr th:only-of-type {\n",
       "        vertical-align: middle;\n",
       "    }\n",
       "\n",
       "    .dataframe tbody tr th {\n",
       "        vertical-align: top;\n",
       "    }\n",
       "\n",
       "    .dataframe thead th {\n",
       "        text-align: right;\n",
       "    }\n",
       "</style>\n",
       "<table border=\"1\" class=\"dataframe\">\n",
       "  <thead>\n",
       "    <tr style=\"text-align: right;\">\n",
       "      <th></th>\n",
       "      <th>text</th>\n",
       "      <th>text_parsed</th>\n",
       "    </tr>\n",
       "  </thead>\n",
       "  <tbody>\n",
       "    <tr>\n",
       "      <th>0</th>\n",
       "      <td>When he was running for mayor in 2016, then-No...</td>\n",
       "      <td>running mayor 2016 thennorfolk sheriff bob mcc...</td>\n",
       "    </tr>\n",
       "    <tr>\n",
       "      <th>1</th>\n",
       "      <td>\\nED has been probing the former legislator on...</td>\n",
       "      <td>ed probing former legislator money laundering ...</td>\n",
       "    </tr>\n",
       "    <tr>\n",
       "      <th>2</th>\n",
       "      <td>\\n\\nThe Enforcement Directorate has issued a l...</td>\n",
       "      <td>enforcement directorate issued lookout notice ...</td>\n",
       "    </tr>\n",
       "    <tr>\n",
       "      <th>3</th>\n",
       "      <td>\\n\\tPlease use the sharing tools found via the...</td>\n",
       "      <td>please use sharing tools found via share butto...</td>\n",
       "    </tr>\n",
       "    <tr>\n",
       "      <th>4</th>\n",
       "      <td>Lawyers defending the founders of the classifi...</td>\n",
       "      <td>lawyers defending founders classified site bac...</td>\n",
       "    </tr>\n",
       "  </tbody>\n",
       "</table>\n",
       "</div>"
      ],
      "text/plain": [
       "                                                text  \\\n",
       "0  When he was running for mayor in 2016, then-No...   \n",
       "1  \\nED has been probing the former legislator on...   \n",
       "2  \\n\\nThe Enforcement Directorate has issued a l...   \n",
       "3  \\n\\tPlease use the sharing tools found via the...   \n",
       "4  Lawyers defending the founders of the classifi...   \n",
       "\n",
       "                                         text_parsed  \n",
       "0  running mayor 2016 thennorfolk sheriff bob mcc...  \n",
       "1  ed probing former legislator money laundering ...  \n",
       "2  enforcement directorate issued lookout notice ...  \n",
       "3  please use sharing tools found via share butto...  \n",
       "4  lawyers defending founders classified site bac...  "
      ]
     },
     "execution_count": 25,
     "metadata": {},
     "output_type": "execute_result"
    }
   ],
   "source": [
    "ml_data[['text', 'text_parsed']].head()"
   ]
  },
  {
   "cell_type": "code",
   "execution_count": 27,
   "metadata": {},
   "outputs": [],
   "source": [
    "ml_data.to_csv('./datasets/money_laundering_news_processed.csv')"
   ]
  },
  {
   "cell_type": "code",
   "execution_count": 18,
   "metadata": {},
   "outputs": [],
   "source": [
    "def create_wordcloud(words):\n",
    "    wordcloud = WordCloud(width=800, height=500, random_state=21, max_font_size=110).generate(words)\n",
    "    plt.figure(figsize=(10, 7))\n",
    "    plt.imshow(wordcloud, interpolation=\"bilinear\")\n",
    "    plt.axis('off')\n",
    "    plt.show()"
   ]
  },
  {
   "cell_type": "code",
   "execution_count": null,
   "metadata": {},
   "outputs": [],
   "source": [
    "# subset=data[data.Category==\"entertainment\"]\n",
    "# text=subset.Text.values\n",
    "# words =\" \".join(text)\n",
    "# create_wordcloud(words)"
   ]
  }
 ],
 "metadata": {
  "kernelspec": {
   "display_name": "Python 3",
   "language": "python",
   "name": "python3"
  },
  "language_info": {
   "codemirror_mode": {
    "name": "ipython",
    "version": 3
   },
   "file_extension": ".py",
   "mimetype": "text/x-python",
   "name": "python",
   "nbconvert_exporter": "python",
   "pygments_lexer": "ipython3",
   "version": "3.7.3"
  }
 },
 "nbformat": 4,
 "nbformat_minor": 2
}
